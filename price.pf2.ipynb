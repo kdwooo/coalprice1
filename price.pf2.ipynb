{
  "nbformat": 4,
  "nbformat_minor": 0,
  "metadata": {
    "colab": {
      "name": "Untitled0.ipynb",
      "provenance": [],
      "private_outputs": true,
      "authorship_tag": "ABX9TyOdREDfuo6QEnKZ4tM7uz3g",
      "include_colab_link": true
    },
    "kernelspec": {
      "name": "python3",
      "display_name": "Python 3"
    }
  },
  "cells": [
    {
      "cell_type": "markdown",
      "metadata": {
        "id": "view-in-github",
        "colab_type": "text"
      },
      "source": [
        "<a href=\"https://colab.research.google.com/github/kdwooo/price.paper/blob/master/price.pf2.ipynb\" target=\"_parent\"><img src=\"https://colab.research.google.com/assets/colab-badge.svg\" alt=\"Open In Colab\"/></a>"
      ]
    },
    {
      "cell_type": "code",
      "metadata": {
        "id": "vcUGVQTKWxbU",
        "colab_type": "code",
        "colab": {}
      },
      "source": [
        "!git clone https://github.com/kdwooo/price.pf2.git"
      ],
      "execution_count": 0,
      "outputs": []
    }
  ]
}